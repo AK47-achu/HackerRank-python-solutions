{
 "cells": [
  {
   "cell_type": "code",
   "execution_count": null,
   "metadata": {},
   "outputs": [],
   "source": [
    "#!/bin/python3\n",
    "\n",
    "import math\n",
    "import os\n",
    "import random\n",
    "import re\n",
    "import sys\n",
    "\n",
    "# Complete the climbingLeaderboard function below.\n",
    "def climbingLeaderboard(scores, alice):\n",
    "    scores = sorted(list(set(scores)))\n",
    "    index = 0\n",
    "    rank_list = []\n",
    "    n = len(scores)\n",
    "    for i in alice:\n",
    "        while (n > index and i >= scores[index]):\n",
    "            index += 1\n",
    "        rank_list.append(n+1-index) \n",
    "    return rank_list\n",
    "    \n",
    "\n",
    "if __name__ == '__main__':\n",
    "    fptr = open(os.environ['OUTPUT_PATH'], 'w')\n",
    "\n",
    "    scores_count = int(input())\n",
    "\n",
    "    scores = list(map(int, input().rstrip().split()))\n",
    "\n",
    "    alice_count = int(input())\n",
    "\n",
    "    alice = list(map(int, input().rstrip().split()))\n",
    "\n",
    "    result = climbingLeaderboard(scores, alice)\n",
    "\n",
    "    fptr.write('\\n'.join(map(str, result)))\n",
    "    fptr.write('\\n')\n",
    "\n",
    "    fptr.close()"
   ]
  }
 ],
 "metadata": {
  "kernelspec": {
   "display_name": "Python 3",
   "language": "python",
   "name": "python3"
  },
  "language_info": {
   "codemirror_mode": {
    "name": "ipython",
    "version": 3
   },
   "file_extension": ".py",
   "mimetype": "text/x-python",
   "name": "python",
   "nbconvert_exporter": "python",
   "pygments_lexer": "ipython3",
   "version": "3.7.6"
  }
 },
 "nbformat": 4,
 "nbformat_minor": 4
}
