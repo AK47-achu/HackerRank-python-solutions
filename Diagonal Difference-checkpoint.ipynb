{
 "cells": [
  {
   "cell_type": "code",
   "execution_count": null,
   "metadata": {},
   "outputs": [],
   "source": [
    "#!/bin/python3\n",
    "\n",
    "import math\n",
    "import os\n",
    "import random\n",
    "import re\n",
    "import sys\n",
    "\n",
    "# Complete the diagonalDifference function below.\n",
    "def diagonalDifference(arr):\n",
    "    prim =0\n",
    "    sec=0\n",
    "    length = len(arr[0])\n",
    "    for count in range(length):\n",
    "        prim += arr[count][count]\n",
    "        sec += arr[count][(length-count-1)]\n",
    "    return abs(prim-sec)\n",
    "    \n",
    "\n",
    "if __name__ == '__main__':\n",
    "    fptr = open(os.environ['OUTPUT_PATH'], 'w')\n",
    "\n",
    "    n = int(input())\n",
    "\n",
    "    arr = []\n",
    "\n",
    "    for _ in range(n):\n",
    "        arr.append(list(map(int, input().rstrip().split())))\n",
    "\n",
    "    result = diagonalDifference(arr)\n",
    "\n",
    "    fptr.write(str(result) + '\\n')\n",
    "\n",
    "    fptr.close()"
   ]
  }
 ],
 "metadata": {
  "kernelspec": {
   "display_name": "Python 3",
   "language": "python",
   "name": "python3"
  },
  "language_info": {
   "codemirror_mode": {
    "name": "ipython",
    "version": 3
   },
   "file_extension": ".py",
   "mimetype": "text/x-python",
   "name": "python",
   "nbconvert_exporter": "python",
   "pygments_lexer": "ipython3",
   "version": "3.7.6"
  }
 },
 "nbformat": 4,
 "nbformat_minor": 4
}
