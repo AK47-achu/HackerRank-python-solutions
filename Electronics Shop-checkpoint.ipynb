{
 "cells": [
  {
   "cell_type": "code",
   "execution_count": null,
   "metadata": {},
   "outputs": [],
   "source": [
    "#!/bin/python3\n",
    "\n",
    "import os\n",
    "import sys\n",
    "\n",
    "def getMoneySpent(keyboards, drives, b):\n",
    "    return max([sum([x,y]) for x in keyboards for y in drives if sum([x,y]) <= b]+[-1])\n",
    "\n",
    "if __name__ == '__main__':\n",
    "    fptr = open(os.environ['OUTPUT_PATH'], 'w')\n",
    "\n",
    "    bnm = input().split()\n",
    "\n",
    "    b = int(bnm[0])\n",
    "\n",
    "    n = int(bnm[1])\n",
    "\n",
    "    m = int(bnm[2])\n",
    "\n",
    "    keyboards = list(map(int, input().rstrip().split()))\n",
    "\n",
    "    drives = list(map(int, input().rstrip().split()))\n",
    "\n",
    "    moneySpent = getMoneySpent(keyboards, drives, b)\n",
    "\n",
    "    fptr.write(str(moneySpent) + '\\n')\n",
    "\n",
    "    fptr.close()"
   ]
  }
 ],
 "metadata": {
  "kernelspec": {
   "display_name": "Python 3",
   "language": "python",
   "name": "python3"
  },
  "language_info": {
   "codemirror_mode": {
    "name": "ipython",
    "version": 3
   },
   "file_extension": ".py",
   "mimetype": "text/x-python",
   "name": "python",
   "nbconvert_exporter": "python",
   "pygments_lexer": "ipython3",
   "version": "3.7.6"
  }
 },
 "nbformat": 4,
 "nbformat_minor": 4
}
